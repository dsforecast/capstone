{
 "cells": [
  {
   "cell_type": "markdown",
   "metadata": {},
   "source": [
    "# Sneaker Stores in NYC"
   ]
  },
  {
   "cell_type": "markdown",
   "metadata": {},
   "source": [
    "### Introduction/Business Problem"
   ]
  },
  {
   "cell_type": "markdown",
   "metadata": {},
   "source": [
    "This final project explores the best locations for new sneaker and lifestyle stores throughout the streets of New York City. New York is a major metropolitan area with more than 8.4 million (Quick Facts, 2018) inhabitants. Its the largest city in the US with a long history of international immigration and style innovation for the whole world. As Jay-Z and Alicia Keys once put it, if you can make it here, you can make it everywhere. In 2017, the total global sneakers market was valued at approximately 62.5 billion U.S. dollars and was forecast to reach a value of 97.8 billion U.S. dollars by 2024. (https://www.statista.com/statistics/1017918/sneakers-market-value-forecast-worldwide/)\n",
    "\n",
    "Since the competion is very high, the project aims to answer the question where are good locations to open a new sneaker store and what kind of target audience and clients can be expected. We also will try to answer the question if the store should be a classical retail store or a resell aka commission based to store."
   ]
  },
  {
   "cell_type": "markdown",
   "metadata": {},
   "source": [
    "### Data section"
   ]
  },
  {
   "cell_type": "markdown",
   "metadata": {},
   "source": [
    "For this project we use the New Zork citz data used in the previous weeks. This contains the following:\n",
    "1. New York City data that contains Borough, Neighborhoods along with there latitudes and longitudes\n",
    "    - Data Source: https://cocl.us/new_york_dataset\n",
    "    - Description: This data set contains the required information. And we will use this data set to explore various neighborhoods of new york city.\n",
    "\n",
    "\n",
    "2. Sneaker and fashion retails store in Manhatten and Brooklyn (NYC).\n",
    "    - Data Source: Foursquare API\n",
    "    - Description: By using this API we will get all the venues in Queens neighborhood. We can filter these venues to get only Indian restaurants."
   ]
  },
  {
   "cell_type": "markdown",
   "metadata": {},
   "source": [
    "### Approach"
   ]
  },
  {
   "cell_type": "markdown",
   "metadata": {},
   "source": [
    "Approach\n",
    "Collect the new york city data from https://cocl.us/new_york_dataset\n",
    "* Using Foursquare API we will get all venues for each neighborhood.\n",
    "* Filter out all venues which are sneaker and fashion related.\n",
    "* Data Visualization and some statistical analysis.\n",
    "* Analysing using Clustering (Specially K-Means):\n",
    "1. Find the best value of K\n",
    "2. Visualize the neighborhood with number of Indian Restaurants.\n",
    "* Compare the Neighborhoods to Find the Best Place for Starting up a Restaurant\n",
    "* Inference From these Results and related Conclusions"
   ]
  },
  {
   "cell_type": "markdown",
   "metadata": {},
   "source": [
    "### Libaries"
   ]
  },
  {
   "cell_type": "code",
   "execution_count": 1,
   "metadata": {},
   "outputs": [
    {
     "name": "stdout",
     "output_type": "stream",
     "text": [
      "Libraries imported.\n"
     ]
    }
   ],
   "source": [
    "import numpy as np # library to handle data in a vectorized manner\n",
    "\n",
    "import pandas as pd # library for data analsysis\n",
    "pd.set_option('display.max_columns', None)\n",
    "pd.set_option('display.max_rows', None)\n",
    "\n",
    "import json # library to handle JSON files\n",
    "\n",
    "#!conda install -c conda-forge geopy --yes # uncomment this line if you haven't completed the Foursquare API lab\n",
    "from geopy.geocoders import Nominatim # convert an address into latitude and longitude values\n",
    "\n",
    "import requests # library to handle requests\n",
    "from pandas.io.json import json_normalize # tranform JSON file into a pandas dataframe\n",
    "\n",
    "# Matplotlib and associated plotting modules\n",
    "import matplotlib.cm as cm\n",
    "import matplotlib.colors as colors\n",
    "import matplotlib.pyplot as plt\n",
    "\n",
    "# import k-means from clustering stage\n",
    "from sklearn.cluster import KMeans\n",
    "\n",
    "#!conda install -c conda-forge folium=0.5.0 --yes # uncomment this line if you haven't completed the Foursquare API lab\n",
    "import folium # map rendering library\n",
    "\n",
    "print('Libraries imported.')"
   ]
  },
  {
   "cell_type": "markdown",
   "metadata": {},
   "source": [
    "### Download Data"
   ]
  },
  {
   "cell_type": "code",
   "execution_count": 2,
   "metadata": {},
   "outputs": [
    {
     "name": "stdout",
     "output_type": "stream",
     "text": [
      "Data downloaded!\n"
     ]
    }
   ],
   "source": [
    "!wget -q -O 'newyork_data.json' https://cocl.us/new_york_dataset\n",
    "print('Data downloaded!')\n",
    "with open('newyork_data.json') as json_data:\n",
    "    newyork_data = json.load(json_data)"
   ]
  },
  {
   "cell_type": "markdown",
   "metadata": {},
   "source": [
    "### Transform to DataFrame"
   ]
  },
  {
   "cell_type": "code",
   "execution_count": 3,
   "metadata": {},
   "outputs": [
    {
     "data": {
      "text/html": [
       "<div>\n",
       "<style scoped>\n",
       "    .dataframe tbody tr th:only-of-type {\n",
       "        vertical-align: middle;\n",
       "    }\n",
       "\n",
       "    .dataframe tbody tr th {\n",
       "        vertical-align: top;\n",
       "    }\n",
       "\n",
       "    .dataframe thead th {\n",
       "        text-align: right;\n",
       "    }\n",
       "</style>\n",
       "<table border=\"1\" class=\"dataframe\">\n",
       "  <thead>\n",
       "    <tr style=\"text-align: right;\">\n",
       "      <th></th>\n",
       "      <th>Borough</th>\n",
       "      <th>Neighborhood</th>\n",
       "      <th>Latitude</th>\n",
       "      <th>Longitude</th>\n",
       "    </tr>\n",
       "  </thead>\n",
       "  <tbody>\n",
       "    <tr>\n",
       "      <th>0</th>\n",
       "      <td>Manhattan</td>\n",
       "      <td>Marble Hill</td>\n",
       "      <td>40.876551</td>\n",
       "      <td>-73.910660</td>\n",
       "    </tr>\n",
       "    <tr>\n",
       "      <th>1</th>\n",
       "      <td>Manhattan</td>\n",
       "      <td>Chinatown</td>\n",
       "      <td>40.715618</td>\n",
       "      <td>-73.994279</td>\n",
       "    </tr>\n",
       "    <tr>\n",
       "      <th>2</th>\n",
       "      <td>Manhattan</td>\n",
       "      <td>Washington Heights</td>\n",
       "      <td>40.851903</td>\n",
       "      <td>-73.936900</td>\n",
       "    </tr>\n",
       "    <tr>\n",
       "      <th>3</th>\n",
       "      <td>Manhattan</td>\n",
       "      <td>Inwood</td>\n",
       "      <td>40.867684</td>\n",
       "      <td>-73.921210</td>\n",
       "    </tr>\n",
       "    <tr>\n",
       "      <th>4</th>\n",
       "      <td>Manhattan</td>\n",
       "      <td>Hamilton Heights</td>\n",
       "      <td>40.823604</td>\n",
       "      <td>-73.949688</td>\n",
       "    </tr>\n",
       "  </tbody>\n",
       "</table>\n",
       "</div>"
      ],
      "text/plain": [
       "     Borough        Neighborhood   Latitude  Longitude\n",
       "0  Manhattan         Marble Hill  40.876551 -73.910660\n",
       "1  Manhattan           Chinatown  40.715618 -73.994279\n",
       "2  Manhattan  Washington Heights  40.851903 -73.936900\n",
       "3  Manhattan              Inwood  40.867684 -73.921210\n",
       "4  Manhattan    Hamilton Heights  40.823604 -73.949688"
      ]
     },
     "execution_count": 3,
     "metadata": {},
     "output_type": "execute_result"
    }
   ],
   "source": [
    "neighborhoods_data = newyork_data['features']\n",
    "column_names = ['Borough', 'Neighborhood', 'Latitude', 'Longitude'] \n",
    "neighborhoods = pd.DataFrame(columns=column_names)\n",
    "for data in neighborhoods_data:\n",
    "    borough = neighborhood_name = data['properties']['borough'] \n",
    "    neighborhood_name = data['properties']['name']\n",
    "        \n",
    "    neighborhood_latlon = data['geometry']['coordinates']\n",
    "    neighborhood_lat = neighborhood_latlon[1]\n",
    "    neighborhood_lon = neighborhood_latlon[0]\n",
    "    \n",
    "    neighborhoods = neighborhoods.append({'Borough': borough,\n",
    "                                          'Neighborhood': neighborhood_name,\n",
    "                                          'Latitude': neighborhood_lat,\n",
    "                                          'Longitude': neighborhood_lon}, ignore_index=True)\n",
    "\n",
    "manhattan_data = neighborhoods[neighborhoods['Borough'] == 'Manhattan'].reset_index(drop=True)\n",
    "manhattan_data.head()"
   ]
  },
  {
   "cell_type": "markdown",
   "metadata": {},
   "source": [
    "### Location Data"
   ]
  },
  {
   "cell_type": "code",
   "execution_count": 4,
   "metadata": {},
   "outputs": [
    {
     "name": "stdout",
     "output_type": "stream",
     "text": [
      "The geograpical coordinate of Manhattan are 40.7896239, -73.9598939.\n"
     ]
    }
   ],
   "source": [
    "address = 'Manhattan, NY'\n",
    "\n",
    "geolocator = Nominatim(user_agent=\"ny_explorer\")\n",
    "location = geolocator.geocode(address)\n",
    "latitude = location.latitude\n",
    "longitude = location.longitude\n",
    "print('The geograpical coordinate of Manhattan are {}, {}.'.format(latitude, longitude))"
   ]
  },
  {
   "cell_type": "markdown",
   "metadata": {},
   "source": [
    "### Create a map of New York with neighborhoods superimposed on top."
   ]
  },
  {
   "cell_type": "code",
   "execution_count": 5,
   "metadata": {},
   "outputs": [
    {
     "data": {
      "text/html": [
       "<div style=\"width:100%;\"><div style=\"position:relative;width:100%;height:0;padding-bottom:60%;\"><span style=\"color:#565656\">Make this Notebook Trusted to load map: File -> Trust Notebook</span><iframe src=\"about:blank\" style=\"position:absolute;width:100%;height:100%;left:0;top:0;border:none !important;\" data-html=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 onload=\"this.contentDocument.open();this.contentDocument.write(atob(this.getAttribute('data-html')));this.contentDocument.close();\" allowfullscreen webkitallowfullscreen mozallowfullscreen></iframe></div></div>"
      ],
      "text/plain": [
       "<folium.folium.Map at 0x7f49fefe5978>"
      ]
     },
     "execution_count": 5,
     "metadata": {},
     "output_type": "execute_result"
    }
   ],
   "source": [
    "# create map of Manhattan using latitude and longitude values\n",
    "map_manhattan = folium.Map(location=[latitude, longitude], zoom_start=11)\n",
    "\n",
    "# add markers to map\n",
    "for lat, lng, label in zip(manhattan_data['Latitude'], manhattan_data['Longitude'], manhattan_data['Neighborhood']):\n",
    "    label = folium.Popup(label, parse_html=True)\n",
    "    folium.CircleMarker(\n",
    "        [lat, lng],\n",
    "        radius=5,\n",
    "        popup=label,\n",
    "        color='blue',\n",
    "        fill=True,\n",
    "        fill_color='#3186cc',\n",
    "        fill_opacity=0.7,\n",
    "        parse_html=False).add_to(map_manhattan)  \n",
    "    \n",
    "map_manhattan"
   ]
  },
  {
   "cell_type": "markdown",
   "metadata": {},
   "source": [
    "### Foursqure Data"
   ]
  },
  {
   "cell_type": "code",
   "execution_count": 6,
   "metadata": {},
   "outputs": [
    {
     "name": "stdout",
     "output_type": "stream",
     "text": [
      "Your credentails:\n",
      "CLIENT_ID: I3LSPZJQ13UVYQPGCIABQUPMLL1HU35WL3Y3IU3AFSCVCSHO\n",
      "CLIENT_SECRET:KT0WTE2HOIRPDYPFKPFACFZ5CF4QABRP400TY0O2ZXNYBVWR\n"
     ]
    }
   ],
   "source": [
    "CLIENT_ID = 'I3LSPZJQ13UVYQPGCIABQUPMLL1HU35WL3Y3IU3AFSCVCSHO' # your Foursquare ID\n",
    "CLIENT_SECRET = 'KT0WTE2HOIRPDYPFKPFACFZ5CF4QABRP400TY0O2ZXNYBVWR' # your Foursquare Secret\n",
    "VERSION = '20200605' # Foursquare API version\n",
    "\n",
    "print('Your credentails:')\n",
    "print('CLIENT_ID: ' + CLIENT_ID)\n",
    "print('CLIENT_SECRET:' + CLIENT_SECRET)"
   ]
  },
  {
   "cell_type": "markdown",
   "metadata": {},
   "source": [
    "### Process Manhatten Neighborhood Data"
   ]
  },
  {
   "cell_type": "code",
   "execution_count": 89,
   "metadata": {},
   "outputs": [],
   "source": [
    "manhattan_data.loc[0, 'Neighborhood']\n",
    "neighborhood_latitude = manhattan_data.loc[0, 'Latitude'] # neighborhood latitude value\n",
    "neighborhood_longitude = manhattan_data.loc[0, 'Longitude'] # neighborhood longitude value\n",
    "neighborhood_name = manhattan_data.loc[0, 'Neighborhood'] # neighborhood name"
   ]
  },
  {
   "cell_type": "code",
   "execution_count": 56,
   "metadata": {},
   "outputs": [
    {
     "name": "stdout",
     "output_type": "stream",
     "text": [
      "Marble Hill\n",
      "Chinatown\n",
      "Washington Heights\n",
      "Inwood\n",
      "Hamilton Heights\n",
      "Manhattanville\n",
      "Central Harlem\n",
      "East Harlem\n",
      "Upper East Side\n",
      "Yorkville\n",
      "Lenox Hill\n",
      "Roosevelt Island\n",
      "Upper West Side\n",
      "Lincoln Square\n",
      "Clinton\n",
      "Midtown\n",
      "Murray Hill\n",
      "Chelsea\n",
      "Greenwich Village\n",
      "East Village\n",
      "Lower East Side\n",
      "Tribeca\n",
      "Little Italy\n",
      "Soho\n",
      "West Village\n",
      "Manhattan Valley\n",
      "Morningside Heights\n",
      "Gramercy\n",
      "Battery Park City\n",
      "Financial District\n",
      "Carnegie Hill\n",
      "Noho\n",
      "Civic Center\n",
      "Midtown South\n",
      "Sutton Place\n",
      "Turtle Bay\n",
      "Tudor City\n",
      "Stuyvesant Town\n",
      "Flatiron\n",
      "Hudson Yards\n"
     ]
    }
   ],
   "source": [
    "# type your answer here\n",
    "LIMIT = 200 \n",
    "radius = 500 \n",
    "\n",
    "def getNearbyVenues(names, latitudes, longitudes, radius=500):\n",
    "    \n",
    "    venues_list=[]\n",
    "    for name, lat, lng in zip(names, latitudes, longitudes):\n",
    "        print(name)\n",
    "            \n",
    "        # create the API request URL\n",
    "        url = 'https://api.foursquare.com/v2/venues/explore?&client_id={}&client_secret={}&v={}&ll={},{}&radius={}&limit={}'.format(\n",
    "            CLIENT_ID, \n",
    "            CLIENT_SECRET, \n",
    "            VERSION, \n",
    "            lat, \n",
    "            lng, \n",
    "            radius, \n",
    "            LIMIT)\n",
    "            \n",
    "        # make the GET request\n",
    "        results = requests.get(url).json()[\"response\"]['groups'][0]['items']\n",
    "        \n",
    "        # return only relevant information for each nearby venue\n",
    "        venues_list.append([(\n",
    "            name, \n",
    "            lat, \n",
    "            lng, \n",
    "            v['venue']['name'], \n",
    "            v['venue']['location']['lat'], \n",
    "            v['venue']['location']['lng'],  \n",
    "            v['venue']['categories'][0]['name']) for v in results])\n",
    "\n",
    "    nearby_venues = pd.DataFrame([item for venue_list in venues_list for item in venue_list])\n",
    "    nearby_venues.columns = ['Neighborhood', \n",
    "                  'Neighborhood Latitude', \n",
    "                  'Neighborhood Longitude', \n",
    "                  'Venue', \n",
    "                  'Venue Latitude', \n",
    "                  'Venue Longitude', \n",
    "                  'Venue Category']\n",
    "    \n",
    "    return(nearby_venues)\n",
    "\n",
    "manhattan_venues = getNearbyVenues(names=manhattan_data['Neighborhood'],\n",
    "                                   latitudes=manhattan_data['Latitude'],\n",
    "                                   longitudes=manhattan_data['Longitude']\n",
    "                                  )"
   ]
  },
  {
   "cell_type": "code",
   "execution_count": 57,
   "metadata": {},
   "outputs": [],
   "source": [
    "# one hot encoding\n",
    "manhattan_onehot = pd.get_dummies(manhattan_venues[['Venue Category']], prefix=\"\", prefix_sep=\"\")\n",
    "\n",
    "# add neighborhood column back to dataframe\n",
    "manhattan_onehot['Neighborhood'] = manhattan_venues['Neighborhood'] \n",
    "\n",
    "# move neighborhood column to the first column\n",
    "fixed_columns = [manhattan_onehot.columns[-1]] + list(manhattan_onehot.columns[:-1])\n",
    "manhattan_onehot = manhattan_onehot[fixed_columns]\n",
    "\n",
    "manhattan_onehot.head()\n",
    "\n",
    "manhattan_onehot = manhattan_onehot[['Neighborhood','Shoe Store','Sporting Goods Shop','Bank']]"
   ]
  },
  {
   "cell_type": "code",
   "execution_count": 58,
   "metadata": {},
   "outputs": [
    {
     "data": {
      "text/html": [
       "<div>\n",
       "<style scoped>\n",
       "    .dataframe tbody tr th:only-of-type {\n",
       "        vertical-align: middle;\n",
       "    }\n",
       "\n",
       "    .dataframe tbody tr th {\n",
       "        vertical-align: top;\n",
       "    }\n",
       "\n",
       "    .dataframe thead th {\n",
       "        text-align: right;\n",
       "    }\n",
       "</style>\n",
       "<table border=\"1\" class=\"dataframe\">\n",
       "  <thead>\n",
       "    <tr style=\"text-align: right;\">\n",
       "      <th></th>\n",
       "      <th>Neighborhood</th>\n",
       "      <th>Shoe Store</th>\n",
       "      <th>Sporting Goods Shop</th>\n",
       "      <th>Bank</th>\n",
       "    </tr>\n",
       "  </thead>\n",
       "  <tbody>\n",
       "    <tr>\n",
       "      <th>0</th>\n",
       "      <td>Battery Park City</td>\n",
       "      <td>0.000000</td>\n",
       "      <td>0.0</td>\n",
       "      <td>0.000000</td>\n",
       "    </tr>\n",
       "    <tr>\n",
       "      <th>1</th>\n",
       "      <td>Carnegie Hill</td>\n",
       "      <td>0.011494</td>\n",
       "      <td>0.0</td>\n",
       "      <td>0.011494</td>\n",
       "    </tr>\n",
       "    <tr>\n",
       "      <th>2</th>\n",
       "      <td>Central Harlem</td>\n",
       "      <td>0.000000</td>\n",
       "      <td>0.0</td>\n",
       "      <td>0.000000</td>\n",
       "    </tr>\n",
       "    <tr>\n",
       "      <th>3</th>\n",
       "      <td>Chelsea</td>\n",
       "      <td>0.010000</td>\n",
       "      <td>0.0</td>\n",
       "      <td>0.000000</td>\n",
       "    </tr>\n",
       "    <tr>\n",
       "      <th>4</th>\n",
       "      <td>Chinatown</td>\n",
       "      <td>0.010000</td>\n",
       "      <td>0.0</td>\n",
       "      <td>0.000000</td>\n",
       "    </tr>\n",
       "  </tbody>\n",
       "</table>\n",
       "</div>"
      ],
      "text/plain": [
       "        Neighborhood  Shoe Store  Sporting Goods Shop      Bank\n",
       "0  Battery Park City    0.000000                  0.0  0.000000\n",
       "1      Carnegie Hill    0.011494                  0.0  0.011494\n",
       "2     Central Harlem    0.000000                  0.0  0.000000\n",
       "3            Chelsea    0.010000                  0.0  0.000000\n",
       "4          Chinatown    0.010000                  0.0  0.000000"
      ]
     },
     "execution_count": 58,
     "metadata": {},
     "output_type": "execute_result"
    }
   ],
   "source": [
    "manhattan_grouped = manhattan_onehot.groupby('Neighborhood').mean().reset_index()\n",
    "manhattan_grouped.head()"
   ]
  },
  {
   "cell_type": "markdown",
   "metadata": {},
   "source": [
    "### Some Clustering"
   ]
  },
  {
   "cell_type": "code",
   "execution_count": 59,
   "metadata": {},
   "outputs": [
    {
     "data": {
      "image/png": "[encoded data removed]",
      "text/plain": [
       "<Figure size 432x288 with 1 Axes>"
      ]
     },
     "metadata": {
      "needs_background": "light"
     },
     "output_type": "display_data"
    }
   ],
   "source": [
    "manhattan_grouped_clustering = manhattan_grouped.drop('Neighborhood', 1)\n",
    "cost=[]\n",
    "for i in range(1,11):\n",
    "    KM = KMeans(n_clusters = i, max_iter = 500)\n",
    "    KM.fit(manhattan_grouped_clustering)\n",
    "    cost.append(KM.inertia_)\n",
    "    \n",
    "plt.plot(range(1,11), cost, color='r', linewidth='2')\n",
    "plt.xlabel('Value K')\n",
    "plt.ylabel('Squared Error')\n",
    "plt.grid()\n",
    "plt.show()\n"
   ]
  },
  {
   "cell_type": "markdown",
   "metadata": {},
   "source": [
    "From the above image we see that best value of K will be 3 according to Elbow method.\n",
    "\n",
    "We will merge above table with our New York dataframe so that we will get coordinates of all neighborhoods."
   ]
  },
  {
   "cell_type": "code",
   "execution_count": 60,
   "metadata": {},
   "outputs": [],
   "source": [
    "def return_most_common_venues(row, num_top_venues):\n",
    "    row_categories = row.iloc[1:]\n",
    "    row_categories_sorted = row_categories.sort_values(ascending=False)\n",
    "    \n",
    "    return row_categories_sorted.index.values[0:num_top_venues]"
   ]
  },
  {
   "cell_type": "code",
   "execution_count": 61,
   "metadata": {},
   "outputs": [
    {
     "data": {
      "text/html": [
       "<div>\n",
       "<style scoped>\n",
       "    .dataframe tbody tr th:only-of-type {\n",
       "        vertical-align: middle;\n",
       "    }\n",
       "\n",
       "    .dataframe tbody tr th {\n",
       "        vertical-align: top;\n",
       "    }\n",
       "\n",
       "    .dataframe thead th {\n",
       "        text-align: right;\n",
       "    }\n",
       "</style>\n",
       "<table border=\"1\" class=\"dataframe\">\n",
       "  <thead>\n",
       "    <tr style=\"text-align: right;\">\n",
       "      <th></th>\n",
       "      <th>Neighborhood</th>\n",
       "      <th>1st Most Common Venue</th>\n",
       "      <th>2nd Most Common Venue</th>\n",
       "      <th>3rd Most Common Venue</th>\n",
       "    </tr>\n",
       "  </thead>\n",
       "  <tbody>\n",
       "    <tr>\n",
       "      <th>0</th>\n",
       "      <td>Battery Park City</td>\n",
       "      <td>Bank</td>\n",
       "      <td>Sporting Goods Shop</td>\n",
       "      <td>Shoe Store</td>\n",
       "    </tr>\n",
       "    <tr>\n",
       "      <th>1</th>\n",
       "      <td>Carnegie Hill</td>\n",
       "      <td>Bank</td>\n",
       "      <td>Shoe Store</td>\n",
       "      <td>Sporting Goods Shop</td>\n",
       "    </tr>\n",
       "    <tr>\n",
       "      <th>2</th>\n",
       "      <td>Central Harlem</td>\n",
       "      <td>Bank</td>\n",
       "      <td>Sporting Goods Shop</td>\n",
       "      <td>Shoe Store</td>\n",
       "    </tr>\n",
       "    <tr>\n",
       "      <th>3</th>\n",
       "      <td>Chelsea</td>\n",
       "      <td>Shoe Store</td>\n",
       "      <td>Bank</td>\n",
       "      <td>Sporting Goods Shop</td>\n",
       "    </tr>\n",
       "    <tr>\n",
       "      <th>4</th>\n",
       "      <td>Chinatown</td>\n",
       "      <td>Shoe Store</td>\n",
       "      <td>Bank</td>\n",
       "      <td>Sporting Goods Shop</td>\n",
       "    </tr>\n",
       "  </tbody>\n",
       "</table>\n",
       "</div>"
      ],
      "text/plain": [
       "        Neighborhood 1st Most Common Venue 2nd Most Common Venue  \\\n",
       "0  Battery Park City                  Bank   Sporting Goods Shop   \n",
       "1      Carnegie Hill                  Bank            Shoe Store   \n",
       "2     Central Harlem                  Bank   Sporting Goods Shop   \n",
       "3            Chelsea            Shoe Store                  Bank   \n",
       "4          Chinatown            Shoe Store                  Bank   \n",
       "\n",
       "  3rd Most Common Venue  \n",
       "0            Shoe Store  \n",
       "1   Sporting Goods Shop  \n",
       "2            Shoe Store  \n",
       "3   Sporting Goods Shop  \n",
       "4   Sporting Goods Shop  "
      ]
     },
     "execution_count": 61,
     "metadata": {},
     "output_type": "execute_result"
    }
   ],
   "source": [
    "num_top_venues = 3\n",
    "\n",
    "indicators = ['st', 'nd', 'rd']\n",
    "\n",
    "# create columns according to number of top venues\n",
    "columns = ['Neighborhood']\n",
    "for ind in np.arange(num_top_venues):\n",
    "    try:\n",
    "        columns.append('{}{} Most Common Venue'.format(ind+1, indicators[ind]))\n",
    "    except:\n",
    "        columns.append('{}th Most Common Venue'.format(ind+1))\n",
    "\n",
    "# create a new dataframe\n",
    "neighborhoods_venues_sorted = pd.DataFrame(columns=columns)\n",
    "neighborhoods_venues_sorted['Neighborhood'] = manhattan_grouped['Neighborhood']\n",
    "\n",
    "for ind in np.arange(manhattan_grouped.shape[0]):\n",
    "    neighborhoods_venues_sorted.iloc[ind, 1:] = return_most_common_venues(manhattan_grouped.iloc[ind, :], num_top_venues)\n",
    "\n",
    "neighborhoods_venues_sorted.head()"
   ]
  },
  {
   "cell_type": "code",
   "execution_count": 62,
   "metadata": {},
   "outputs": [
    {
     "data": {
      "text/plain": [
       "array([0, 2, 0, 0, 0, 1, 1, 0, 0, 0], dtype=int32)"
      ]
     },
     "execution_count": 62,
     "metadata": {},
     "output_type": "execute_result"
    }
   ],
   "source": [
    "# set number of clusters\n",
    "kclusters = 3\n",
    "\n",
    "# run k-means clustering\n",
    "kmeans = KMeans(n_clusters=kclusters, random_state=0).fit(manhattan_grouped_clustering)\n",
    "\n",
    "# check cluster labels generated for each row in the dataframe\n",
    "kmeans.labels_[0:10] "
   ]
  },
  {
   "cell_type": "code",
   "execution_count": 63,
   "metadata": {},
   "outputs": [
    {
     "data": {
      "text/html": [
       "<div>\n",
       "<style scoped>\n",
       "    .dataframe tbody tr th:only-of-type {\n",
       "        vertical-align: middle;\n",
       "    }\n",
       "\n",
       "    .dataframe tbody tr th {\n",
       "        vertical-align: top;\n",
       "    }\n",
       "\n",
       "    .dataframe thead th {\n",
       "        text-align: right;\n",
       "    }\n",
       "</style>\n",
       "<table border=\"1\" class=\"dataframe\">\n",
       "  <thead>\n",
       "    <tr style=\"text-align: right;\">\n",
       "      <th></th>\n",
       "      <th>Borough</th>\n",
       "      <th>Neighborhood</th>\n",
       "      <th>Latitude</th>\n",
       "      <th>Longitude</th>\n",
       "      <th>Cluster Labels</th>\n",
       "      <th>1st Most Common Venue</th>\n",
       "      <th>2nd Most Common Venue</th>\n",
       "      <th>3rd Most Common Venue</th>\n",
       "      <th>Shoe Store</th>\n",
       "      <th>Sporting Goods Shop</th>\n",
       "      <th>Bank</th>\n",
       "    </tr>\n",
       "  </thead>\n",
       "  <tbody>\n",
       "    <tr>\n",
       "      <th>0</th>\n",
       "      <td>Manhattan</td>\n",
       "      <td>Marble Hill</td>\n",
       "      <td>40.876551</td>\n",
       "      <td>-73.910660</td>\n",
       "      <td>0</td>\n",
       "      <td>Bank</td>\n",
       "      <td>Sporting Goods Shop</td>\n",
       "      <td>Shoe Store</td>\n",
       "      <td>0.000000</td>\n",
       "      <td>0.000000</td>\n",
       "      <td>0.000000</td>\n",
       "    </tr>\n",
       "    <tr>\n",
       "      <th>1</th>\n",
       "      <td>Manhattan</td>\n",
       "      <td>Chinatown</td>\n",
       "      <td>40.715618</td>\n",
       "      <td>-73.994279</td>\n",
       "      <td>0</td>\n",
       "      <td>Shoe Store</td>\n",
       "      <td>Bank</td>\n",
       "      <td>Sporting Goods Shop</td>\n",
       "      <td>0.010000</td>\n",
       "      <td>0.000000</td>\n",
       "      <td>0.000000</td>\n",
       "    </tr>\n",
       "    <tr>\n",
       "      <th>2</th>\n",
       "      <td>Manhattan</td>\n",
       "      <td>Washington Heights</td>\n",
       "      <td>40.851903</td>\n",
       "      <td>-73.936900</td>\n",
       "      <td>2</td>\n",
       "      <td>Bank</td>\n",
       "      <td>Sporting Goods Shop</td>\n",
       "      <td>Shoe Store</td>\n",
       "      <td>0.011494</td>\n",
       "      <td>0.011494</td>\n",
       "      <td>0.022989</td>\n",
       "    </tr>\n",
       "    <tr>\n",
       "      <th>3</th>\n",
       "      <td>Manhattan</td>\n",
       "      <td>Inwood</td>\n",
       "      <td>40.867684</td>\n",
       "      <td>-73.921210</td>\n",
       "      <td>0</td>\n",
       "      <td>Bank</td>\n",
       "      <td>Sporting Goods Shop</td>\n",
       "      <td>Shoe Store</td>\n",
       "      <td>0.000000</td>\n",
       "      <td>0.000000</td>\n",
       "      <td>0.000000</td>\n",
       "    </tr>\n",
       "    <tr>\n",
       "      <th>4</th>\n",
       "      <td>Manhattan</td>\n",
       "      <td>Hamilton Heights</td>\n",
       "      <td>40.823604</td>\n",
       "      <td>-73.949688</td>\n",
       "      <td>2</td>\n",
       "      <td>Bank</td>\n",
       "      <td>Sporting Goods Shop</td>\n",
       "      <td>Shoe Store</td>\n",
       "      <td>0.000000</td>\n",
       "      <td>0.000000</td>\n",
       "      <td>0.016949</td>\n",
       "    </tr>\n",
       "  </tbody>\n",
       "</table>\n",
       "</div>"
      ],
      "text/plain": [
       "     Borough        Neighborhood   Latitude  Longitude  Cluster Labels  \\\n",
       "0  Manhattan         Marble Hill  40.876551 -73.910660               0   \n",
       "1  Manhattan           Chinatown  40.715618 -73.994279               0   \n",
       "2  Manhattan  Washington Heights  40.851903 -73.936900               2   \n",
       "3  Manhattan              Inwood  40.867684 -73.921210               0   \n",
       "4  Manhattan    Hamilton Heights  40.823604 -73.949688               2   \n",
       "\n",
       "  1st Most Common Venue 2nd Most Common Venue 3rd Most Common Venue  \\\n",
       "0                  Bank   Sporting Goods Shop            Shoe Store   \n",
       "1            Shoe Store                  Bank   Sporting Goods Shop   \n",
       "2                  Bank   Sporting Goods Shop            Shoe Store   \n",
       "3                  Bank   Sporting Goods Shop            Shoe Store   \n",
       "4                  Bank   Sporting Goods Shop            Shoe Store   \n",
       "\n",
       "   Shoe Store  Sporting Goods Shop      Bank  \n",
       "0    0.000000             0.000000  0.000000  \n",
       "1    0.010000             0.000000  0.000000  \n",
       "2    0.011494             0.011494  0.022989  \n",
       "3    0.000000             0.000000  0.000000  \n",
       "4    0.000000             0.000000  0.016949  "
      ]
     },
     "execution_count": 63,
     "metadata": {},
     "output_type": "execute_result"
    }
   ],
   "source": [
    "neighborhoods_venues_sorted.insert(0, 'Cluster Labels', kmeans.labels_)\n",
    "manhattan_merged = manhattan_data.copy()\n",
    "manhattan_merged = manhattan_merged.join(neighborhoods_venues_sorted.set_index('Neighborhood'), on='Neighborhood')\n",
    "manhattan_merged = manhattan_merged.join(manhattan_grouped.set_index('Neighborhood'), on='Neighborhood')\n",
    "manhattan_merged.head()"
   ]
  },
  {
   "cell_type": "markdown",
   "metadata": {},
   "source": [
    "### Visualize the three clusters"
   ]
  },
  {
   "cell_type": "code",
   "execution_count": 64,
   "metadata": {},
   "outputs": [
    {
     "data": {
      "text/html": [
       "<div style=\"width:100%;\"><div style=\"position:relative;width:100%;height:0;padding-bottom:60%;\"><span style=\"color:#565656\">Make this Notebook Trusted to load map: File -> Trust Notebook</span><iframe src=\"about:blank\" style=\"position:absolute;width:100%;height:100%;left:0;top:0;border:none !important;\" data-html=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 onload=\"this.contentDocument.open();this.contentDocument.write(atob(this.getAttribute('data-html')));this.contentDocument.close();\" allowfullscreen webkitallowfullscreen mozallowfullscreen></iframe></div></div>"
      ],
      "text/plain": [
       "<folium.folium.Map at 0x7f49fe016390>"
      ]
     },
     "execution_count": 64,
     "metadata": {},
     "output_type": "execute_result"
    }
   ],
   "source": [
    "# create map\n",
    "map_clusters = folium.Map(location=[latitude, longitude], zoom_start=11)\n",
    "\n",
    "# set color scheme for the clusters\n",
    "x = np.arange(kclusters)\n",
    "ys = [i + x + (i*x)**2 for i in range(kclusters)]\n",
    "colors_array = cm.rainbow(np.linspace(0, 1, len(ys)))\n",
    "rainbow = [colors.rgb2hex(i) for i in colors_array]\n",
    "\n",
    "# add markers to the map\n",
    "markers_colors = []\n",
    "for lat, lon, poi, cluster in zip(manhattan_merged['Latitude'], manhattan_merged['Longitude'], manhattan_merged['Neighborhood'], manhattan_merged['Cluster Labels']):\n",
    "    label = folium.Popup(str(poi) + ' Cluster ' + str(cluster), parse_html=True)\n",
    "    folium.CircleMarker(\n",
    "        [lat, lon],\n",
    "        radius=5,\n",
    "        popup=label,\n",
    "        color=rainbow[cluster-1],\n",
    "        fill=True,\n",
    "        fill_color=rainbow[cluster-1],\n",
    "        fill_opacity=0.7).add_to(map_clusters)\n",
    "       \n",
    "map_clusters"
   ]
  },
  {
   "cell_type": "markdown",
   "metadata": {},
   "source": [
    "## Analyze the Clusters"
   ]
  },
  {
   "cell_type": "markdown",
   "metadata": {},
   "source": [
    "#### Cluster 0"
   ]
  },
  {
   "cell_type": "code",
   "execution_count": 65,
   "metadata": {},
   "outputs": [
    {
     "data": {
      "text/html": [
       "<div>\n",
       "<style scoped>\n",
       "    .dataframe tbody tr th:only-of-type {\n",
       "        vertical-align: middle;\n",
       "    }\n",
       "\n",
       "    .dataframe tbody tr th {\n",
       "        vertical-align: top;\n",
       "    }\n",
       "\n",
       "    .dataframe thead th {\n",
       "        text-align: right;\n",
       "    }\n",
       "</style>\n",
       "<table border=\"1\" class=\"dataframe\">\n",
       "  <thead>\n",
       "    <tr style=\"text-align: right;\">\n",
       "      <th></th>\n",
       "      <th>Neighborhood</th>\n",
       "      <th>1st Most Common Venue</th>\n",
       "      <th>2nd Most Common Venue</th>\n",
       "      <th>3rd Most Common Venue</th>\n",
       "      <th>Shoe Store</th>\n",
       "      <th>Sporting Goods Shop</th>\n",
       "      <th>Bank</th>\n",
       "    </tr>\n",
       "  </thead>\n",
       "  <tbody>\n",
       "    <tr>\n",
       "      <th>0</th>\n",
       "      <td>Marble Hill</td>\n",
       "      <td>Bank</td>\n",
       "      <td>Sporting Goods Shop</td>\n",
       "      <td>Shoe Store</td>\n",
       "      <td>0.000000</td>\n",
       "      <td>0.0</td>\n",
       "      <td>0.0</td>\n",
       "    </tr>\n",
       "    <tr>\n",
       "      <th>1</th>\n",
       "      <td>Chinatown</td>\n",
       "      <td>Shoe Store</td>\n",
       "      <td>Bank</td>\n",
       "      <td>Sporting Goods Shop</td>\n",
       "      <td>0.010000</td>\n",
       "      <td>0.0</td>\n",
       "      <td>0.0</td>\n",
       "    </tr>\n",
       "    <tr>\n",
       "      <th>3</th>\n",
       "      <td>Inwood</td>\n",
       "      <td>Bank</td>\n",
       "      <td>Sporting Goods Shop</td>\n",
       "      <td>Shoe Store</td>\n",
       "      <td>0.000000</td>\n",
       "      <td>0.0</td>\n",
       "      <td>0.0</td>\n",
       "    </tr>\n",
       "    <tr>\n",
       "      <th>6</th>\n",
       "      <td>Central Harlem</td>\n",
       "      <td>Bank</td>\n",
       "      <td>Sporting Goods Shop</td>\n",
       "      <td>Shoe Store</td>\n",
       "      <td>0.000000</td>\n",
       "      <td>0.0</td>\n",
       "      <td>0.0</td>\n",
       "    </tr>\n",
       "    <tr>\n",
       "      <th>7</th>\n",
       "      <td>East Harlem</td>\n",
       "      <td>Bank</td>\n",
       "      <td>Sporting Goods Shop</td>\n",
       "      <td>Shoe Store</td>\n",
       "      <td>0.000000</td>\n",
       "      <td>0.0</td>\n",
       "      <td>0.0</td>\n",
       "    </tr>\n",
       "    <tr>\n",
       "      <th>11</th>\n",
       "      <td>Roosevelt Island</td>\n",
       "      <td>Bank</td>\n",
       "      <td>Sporting Goods Shop</td>\n",
       "      <td>Shoe Store</td>\n",
       "      <td>0.000000</td>\n",
       "      <td>0.0</td>\n",
       "      <td>0.0</td>\n",
       "    </tr>\n",
       "    <tr>\n",
       "      <th>12</th>\n",
       "      <td>Upper West Side</td>\n",
       "      <td>Shoe Store</td>\n",
       "      <td>Bank</td>\n",
       "      <td>Sporting Goods Shop</td>\n",
       "      <td>0.011236</td>\n",
       "      <td>0.0</td>\n",
       "      <td>0.0</td>\n",
       "    </tr>\n",
       "    <tr>\n",
       "      <th>13</th>\n",
       "      <td>Lincoln Square</td>\n",
       "      <td>Bank</td>\n",
       "      <td>Sporting Goods Shop</td>\n",
       "      <td>Shoe Store</td>\n",
       "      <td>0.000000</td>\n",
       "      <td>0.0</td>\n",
       "      <td>0.0</td>\n",
       "    </tr>\n",
       "    <tr>\n",
       "      <th>16</th>\n",
       "      <td>Murray Hill</td>\n",
       "      <td>Bank</td>\n",
       "      <td>Sporting Goods Shop</td>\n",
       "      <td>Shoe Store</td>\n",
       "      <td>0.000000</td>\n",
       "      <td>0.0</td>\n",
       "      <td>0.0</td>\n",
       "    </tr>\n",
       "    <tr>\n",
       "      <th>17</th>\n",
       "      <td>Chelsea</td>\n",
       "      <td>Shoe Store</td>\n",
       "      <td>Bank</td>\n",
       "      <td>Sporting Goods Shop</td>\n",
       "      <td>0.010000</td>\n",
       "      <td>0.0</td>\n",
       "      <td>0.0</td>\n",
       "    </tr>\n",
       "    <tr>\n",
       "      <th>18</th>\n",
       "      <td>Greenwich Village</td>\n",
       "      <td>Bank</td>\n",
       "      <td>Sporting Goods Shop</td>\n",
       "      <td>Shoe Store</td>\n",
       "      <td>0.000000</td>\n",
       "      <td>0.0</td>\n",
       "      <td>0.0</td>\n",
       "    </tr>\n",
       "    <tr>\n",
       "      <th>19</th>\n",
       "      <td>East Village</td>\n",
       "      <td>Bank</td>\n",
       "      <td>Sporting Goods Shop</td>\n",
       "      <td>Shoe Store</td>\n",
       "      <td>0.000000</td>\n",
       "      <td>0.0</td>\n",
       "      <td>0.0</td>\n",
       "    </tr>\n",
       "    <tr>\n",
       "      <th>20</th>\n",
       "      <td>Lower East Side</td>\n",
       "      <td>Bank</td>\n",
       "      <td>Sporting Goods Shop</td>\n",
       "      <td>Shoe Store</td>\n",
       "      <td>0.000000</td>\n",
       "      <td>0.0</td>\n",
       "      <td>0.0</td>\n",
       "    </tr>\n",
       "    <tr>\n",
       "      <th>21</th>\n",
       "      <td>Tribeca</td>\n",
       "      <td>Bank</td>\n",
       "      <td>Sporting Goods Shop</td>\n",
       "      <td>Shoe Store</td>\n",
       "      <td>0.000000</td>\n",
       "      <td>0.0</td>\n",
       "      <td>0.0</td>\n",
       "    </tr>\n",
       "    <tr>\n",
       "      <th>22</th>\n",
       "      <td>Little Italy</td>\n",
       "      <td>Bank</td>\n",
       "      <td>Sporting Goods Shop</td>\n",
       "      <td>Shoe Store</td>\n",
       "      <td>0.000000</td>\n",
       "      <td>0.0</td>\n",
       "      <td>0.0</td>\n",
       "    </tr>\n",
       "    <tr>\n",
       "      <th>24</th>\n",
       "      <td>West Village</td>\n",
       "      <td>Bank</td>\n",
       "      <td>Sporting Goods Shop</td>\n",
       "      <td>Shoe Store</td>\n",
       "      <td>0.000000</td>\n",
       "      <td>0.0</td>\n",
       "      <td>0.0</td>\n",
       "    </tr>\n",
       "    <tr>\n",
       "      <th>25</th>\n",
       "      <td>Manhattan Valley</td>\n",
       "      <td>Bank</td>\n",
       "      <td>Sporting Goods Shop</td>\n",
       "      <td>Shoe Store</td>\n",
       "      <td>0.000000</td>\n",
       "      <td>0.0</td>\n",
       "      <td>0.0</td>\n",
       "    </tr>\n",
       "    <tr>\n",
       "      <th>26</th>\n",
       "      <td>Morningside Heights</td>\n",
       "      <td>Bank</td>\n",
       "      <td>Sporting Goods Shop</td>\n",
       "      <td>Shoe Store</td>\n",
       "      <td>0.000000</td>\n",
       "      <td>0.0</td>\n",
       "      <td>0.0</td>\n",
       "    </tr>\n",
       "    <tr>\n",
       "      <th>28</th>\n",
       "      <td>Battery Park City</td>\n",
       "      <td>Bank</td>\n",
       "      <td>Sporting Goods Shop</td>\n",
       "      <td>Shoe Store</td>\n",
       "      <td>0.000000</td>\n",
       "      <td>0.0</td>\n",
       "      <td>0.0</td>\n",
       "    </tr>\n",
       "    <tr>\n",
       "      <th>29</th>\n",
       "      <td>Financial District</td>\n",
       "      <td>Bank</td>\n",
       "      <td>Sporting Goods Shop</td>\n",
       "      <td>Shoe Store</td>\n",
       "      <td>0.000000</td>\n",
       "      <td>0.0</td>\n",
       "      <td>0.0</td>\n",
       "    </tr>\n",
       "    <tr>\n",
       "      <th>31</th>\n",
       "      <td>Noho</td>\n",
       "      <td>Bank</td>\n",
       "      <td>Sporting Goods Shop</td>\n",
       "      <td>Shoe Store</td>\n",
       "      <td>0.000000</td>\n",
       "      <td>0.0</td>\n",
       "      <td>0.0</td>\n",
       "    </tr>\n",
       "    <tr>\n",
       "      <th>33</th>\n",
       "      <td>Midtown South</td>\n",
       "      <td>Bank</td>\n",
       "      <td>Sporting Goods Shop</td>\n",
       "      <td>Shoe Store</td>\n",
       "      <td>0.000000</td>\n",
       "      <td>0.0</td>\n",
       "      <td>0.0</td>\n",
       "    </tr>\n",
       "    <tr>\n",
       "      <th>37</th>\n",
       "      <td>Stuyvesant Town</td>\n",
       "      <td>Bank</td>\n",
       "      <td>Sporting Goods Shop</td>\n",
       "      <td>Shoe Store</td>\n",
       "      <td>0.000000</td>\n",
       "      <td>0.0</td>\n",
       "      <td>0.0</td>\n",
       "    </tr>\n",
       "    <tr>\n",
       "      <th>39</th>\n",
       "      <td>Hudson Yards</td>\n",
       "      <td>Bank</td>\n",
       "      <td>Sporting Goods Shop</td>\n",
       "      <td>Shoe Store</td>\n",
       "      <td>0.000000</td>\n",
       "      <td>0.0</td>\n",
       "      <td>0.0</td>\n",
       "    </tr>\n",
       "  </tbody>\n",
       "</table>\n",
       "</div>"
      ],
      "text/plain": [
       "           Neighborhood 1st Most Common Venue 2nd Most Common Venue  \\\n",
       "0           Marble Hill                  Bank   Sporting Goods Shop   \n",
       "1             Chinatown            Shoe Store                  Bank   \n",
       "3                Inwood                  Bank   Sporting Goods Shop   \n",
       "6        Central Harlem                  Bank   Sporting Goods Shop   \n",
       "7           East Harlem                  Bank   Sporting Goods Shop   \n",
       "11     Roosevelt Island                  Bank   Sporting Goods Shop   \n",
       "12      Upper West Side            Shoe Store                  Bank   \n",
       "13       Lincoln Square                  Bank   Sporting Goods Shop   \n",
       "16          Murray Hill                  Bank   Sporting Goods Shop   \n",
       "17              Chelsea            Shoe Store                  Bank   \n",
       "18    Greenwich Village                  Bank   Sporting Goods Shop   \n",
       "19         East Village                  Bank   Sporting Goods Shop   \n",
       "20      Lower East Side                  Bank   Sporting Goods Shop   \n",
       "21              Tribeca                  Bank   Sporting Goods Shop   \n",
       "22         Little Italy                  Bank   Sporting Goods Shop   \n",
       "24         West Village                  Bank   Sporting Goods Shop   \n",
       "25     Manhattan Valley                  Bank   Sporting Goods Shop   \n",
       "26  Morningside Heights                  Bank   Sporting Goods Shop   \n",
       "28    Battery Park City                  Bank   Sporting Goods Shop   \n",
       "29   Financial District                  Bank   Sporting Goods Shop   \n",
       "31                 Noho                  Bank   Sporting Goods Shop   \n",
       "33        Midtown South                  Bank   Sporting Goods Shop   \n",
       "37      Stuyvesant Town                  Bank   Sporting Goods Shop   \n",
       "39         Hudson Yards                  Bank   Sporting Goods Shop   \n",
       "\n",
       "   3rd Most Common Venue  Shoe Store  Sporting Goods Shop  Bank  \n",
       "0             Shoe Store    0.000000                  0.0   0.0  \n",
       "1    Sporting Goods Shop    0.010000                  0.0   0.0  \n",
       "3             Shoe Store    0.000000                  0.0   0.0  \n",
       "6             Shoe Store    0.000000                  0.0   0.0  \n",
       "7             Shoe Store    0.000000                  0.0   0.0  \n",
       "11            Shoe Store    0.000000                  0.0   0.0  \n",
       "12   Sporting Goods Shop    0.011236                  0.0   0.0  \n",
       "13            Shoe Store    0.000000                  0.0   0.0  \n",
       "16            Shoe Store    0.000000                  0.0   0.0  \n",
       "17   Sporting Goods Shop    0.010000                  0.0   0.0  \n",
       "18            Shoe Store    0.000000                  0.0   0.0  \n",
       "19            Shoe Store    0.000000                  0.0   0.0  \n",
       "20            Shoe Store    0.000000                  0.0   0.0  \n",
       "21            Shoe Store    0.000000                  0.0   0.0  \n",
       "22            Shoe Store    0.000000                  0.0   0.0  \n",
       "24            Shoe Store    0.000000                  0.0   0.0  \n",
       "25            Shoe Store    0.000000                  0.0   0.0  \n",
       "26            Shoe Store    0.000000                  0.0   0.0  \n",
       "28            Shoe Store    0.000000                  0.0   0.0  \n",
       "29            Shoe Store    0.000000                  0.0   0.0  \n",
       "31            Shoe Store    0.000000                  0.0   0.0  \n",
       "33            Shoe Store    0.000000                  0.0   0.0  \n",
       "37            Shoe Store    0.000000                  0.0   0.0  \n",
       "39            Shoe Store    0.000000                  0.0   0.0  "
      ]
     },
     "execution_count": 65,
     "metadata": {},
     "output_type": "execute_result"
    }
   ],
   "source": [
    "manhattan_merged.loc[manhattan_merged['Cluster Labels'] == 0, manhattan_merged.columns[[1] + list(range(5, manhattan_merged.shape[1]))]]"
   ]
  },
  {
   "cell_type": "markdown",
   "metadata": {},
   "source": [
    "#### Cluster 1"
   ]
  },
  {
   "cell_type": "code",
   "execution_count": 66,
   "metadata": {},
   "outputs": [
    {
     "data": {
      "text/html": [
       "<div>\n",
       "<style scoped>\n",
       "    .dataframe tbody tr th:only-of-type {\n",
       "        vertical-align: middle;\n",
       "    }\n",
       "\n",
       "    .dataframe tbody tr th {\n",
       "        vertical-align: top;\n",
       "    }\n",
       "\n",
       "    .dataframe thead th {\n",
       "        text-align: right;\n",
       "    }\n",
       "</style>\n",
       "<table border=\"1\" class=\"dataframe\">\n",
       "  <thead>\n",
       "    <tr style=\"text-align: right;\">\n",
       "      <th></th>\n",
       "      <th>Neighborhood</th>\n",
       "      <th>1st Most Common Venue</th>\n",
       "      <th>2nd Most Common Venue</th>\n",
       "      <th>3rd Most Common Venue</th>\n",
       "      <th>Shoe Store</th>\n",
       "      <th>Sporting Goods Shop</th>\n",
       "      <th>Bank</th>\n",
       "    </tr>\n",
       "  </thead>\n",
       "  <tbody>\n",
       "    <tr>\n",
       "      <th>10</th>\n",
       "      <td>Lenox Hill</td>\n",
       "      <td>Sporting Goods Shop</td>\n",
       "      <td>Bank</td>\n",
       "      <td>Shoe Store</td>\n",
       "      <td>0.00</td>\n",
       "      <td>0.02</td>\n",
       "      <td>0.0</td>\n",
       "    </tr>\n",
       "    <tr>\n",
       "      <th>14</th>\n",
       "      <td>Clinton</td>\n",
       "      <td>Sporting Goods Shop</td>\n",
       "      <td>Bank</td>\n",
       "      <td>Shoe Store</td>\n",
       "      <td>0.00</td>\n",
       "      <td>0.01</td>\n",
       "      <td>0.0</td>\n",
       "    </tr>\n",
       "    <tr>\n",
       "      <th>15</th>\n",
       "      <td>Midtown</td>\n",
       "      <td>Sporting Goods Shop</td>\n",
       "      <td>Shoe Store</td>\n",
       "      <td>Bank</td>\n",
       "      <td>0.01</td>\n",
       "      <td>0.02</td>\n",
       "      <td>0.0</td>\n",
       "    </tr>\n",
       "    <tr>\n",
       "      <th>23</th>\n",
       "      <td>Soho</td>\n",
       "      <td>Sporting Goods Shop</td>\n",
       "      <td>Bank</td>\n",
       "      <td>Shoe Store</td>\n",
       "      <td>0.00</td>\n",
       "      <td>0.01</td>\n",
       "      <td>0.0</td>\n",
       "    </tr>\n",
       "    <tr>\n",
       "      <th>32</th>\n",
       "      <td>Civic Center</td>\n",
       "      <td>Sporting Goods Shop</td>\n",
       "      <td>Bank</td>\n",
       "      <td>Shoe Store</td>\n",
       "      <td>0.00</td>\n",
       "      <td>0.02</td>\n",
       "      <td>0.0</td>\n",
       "    </tr>\n",
       "    <tr>\n",
       "      <th>38</th>\n",
       "      <td>Flatiron</td>\n",
       "      <td>Sporting Goods Shop</td>\n",
       "      <td>Bank</td>\n",
       "      <td>Shoe Store</td>\n",
       "      <td>0.00</td>\n",
       "      <td>0.02</td>\n",
       "      <td>0.0</td>\n",
       "    </tr>\n",
       "  </tbody>\n",
       "</table>\n",
       "</div>"
      ],
      "text/plain": [
       "    Neighborhood 1st Most Common Venue 2nd Most Common Venue  \\\n",
       "10    Lenox Hill   Sporting Goods Shop                  Bank   \n",
       "14       Clinton   Sporting Goods Shop                  Bank   \n",
       "15       Midtown   Sporting Goods Shop            Shoe Store   \n",
       "23          Soho   Sporting Goods Shop                  Bank   \n",
       "32  Civic Center   Sporting Goods Shop                  Bank   \n",
       "38      Flatiron   Sporting Goods Shop                  Bank   \n",
       "\n",
       "   3rd Most Common Venue  Shoe Store  Sporting Goods Shop  Bank  \n",
       "10            Shoe Store        0.00                 0.02   0.0  \n",
       "14            Shoe Store        0.00                 0.01   0.0  \n",
       "15                  Bank        0.01                 0.02   0.0  \n",
       "23            Shoe Store        0.00                 0.01   0.0  \n",
       "32            Shoe Store        0.00                 0.02   0.0  \n",
       "38            Shoe Store        0.00                 0.02   0.0  "
      ]
     },
     "execution_count": 66,
     "metadata": {},
     "output_type": "execute_result"
    }
   ],
   "source": [
    "manhattan_merged.loc[manhattan_merged['Cluster Labels'] == 1, manhattan_merged.columns[[1] + list(range(5, manhattan_merged.shape[1]))]]"
   ]
  },
  {
   "cell_type": "markdown",
   "metadata": {},
   "source": [
    "#### Cluster 2"
   ]
  },
  {
   "cell_type": "code",
   "execution_count": 67,
   "metadata": {},
   "outputs": [
    {
     "data": {
      "text/html": [
       "<div>\n",
       "<style scoped>\n",
       "    .dataframe tbody tr th:only-of-type {\n",
       "        vertical-align: middle;\n",
       "    }\n",
       "\n",
       "    .dataframe tbody tr th {\n",
       "        vertical-align: top;\n",
       "    }\n",
       "\n",
       "    .dataframe thead th {\n",
       "        text-align: right;\n",
       "    }\n",
       "</style>\n",
       "<table border=\"1\" class=\"dataframe\">\n",
       "  <thead>\n",
       "    <tr style=\"text-align: right;\">\n",
       "      <th></th>\n",
       "      <th>Neighborhood</th>\n",
       "      <th>1st Most Common Venue</th>\n",
       "      <th>2nd Most Common Venue</th>\n",
       "      <th>3rd Most Common Venue</th>\n",
       "      <th>Shoe Store</th>\n",
       "      <th>Sporting Goods Shop</th>\n",
       "      <th>Bank</th>\n",
       "    </tr>\n",
       "  </thead>\n",
       "  <tbody>\n",
       "    <tr>\n",
       "      <th>2</th>\n",
       "      <td>Washington Heights</td>\n",
       "      <td>Bank</td>\n",
       "      <td>Sporting Goods Shop</td>\n",
       "      <td>Shoe Store</td>\n",
       "      <td>0.011494</td>\n",
       "      <td>0.011494</td>\n",
       "      <td>0.022989</td>\n",
       "    </tr>\n",
       "    <tr>\n",
       "      <th>4</th>\n",
       "      <td>Hamilton Heights</td>\n",
       "      <td>Bank</td>\n",
       "      <td>Sporting Goods Shop</td>\n",
       "      <td>Shoe Store</td>\n",
       "      <td>0.000000</td>\n",
       "      <td>0.000000</td>\n",
       "      <td>0.016949</td>\n",
       "    </tr>\n",
       "    <tr>\n",
       "      <th>5</th>\n",
       "      <td>Manhattanville</td>\n",
       "      <td>Bank</td>\n",
       "      <td>Sporting Goods Shop</td>\n",
       "      <td>Shoe Store</td>\n",
       "      <td>0.000000</td>\n",
       "      <td>0.000000</td>\n",
       "      <td>0.023810</td>\n",
       "    </tr>\n",
       "    <tr>\n",
       "      <th>8</th>\n",
       "      <td>Upper East Side</td>\n",
       "      <td>Bank</td>\n",
       "      <td>Shoe Store</td>\n",
       "      <td>Sporting Goods Shop</td>\n",
       "      <td>0.011236</td>\n",
       "      <td>0.000000</td>\n",
       "      <td>0.011236</td>\n",
       "    </tr>\n",
       "    <tr>\n",
       "      <th>9</th>\n",
       "      <td>Yorkville</td>\n",
       "      <td>Bank</td>\n",
       "      <td>Sporting Goods Shop</td>\n",
       "      <td>Shoe Store</td>\n",
       "      <td>0.000000</td>\n",
       "      <td>0.000000</td>\n",
       "      <td>0.010000</td>\n",
       "    </tr>\n",
       "    <tr>\n",
       "      <th>27</th>\n",
       "      <td>Gramercy</td>\n",
       "      <td>Bank</td>\n",
       "      <td>Sporting Goods Shop</td>\n",
       "      <td>Shoe Store</td>\n",
       "      <td>0.000000</td>\n",
       "      <td>0.000000</td>\n",
       "      <td>0.011364</td>\n",
       "    </tr>\n",
       "    <tr>\n",
       "      <th>30</th>\n",
       "      <td>Carnegie Hill</td>\n",
       "      <td>Bank</td>\n",
       "      <td>Shoe Store</td>\n",
       "      <td>Sporting Goods Shop</td>\n",
       "      <td>0.011494</td>\n",
       "      <td>0.000000</td>\n",
       "      <td>0.011494</td>\n",
       "    </tr>\n",
       "    <tr>\n",
       "      <th>34</th>\n",
       "      <td>Sutton Place</td>\n",
       "      <td>Bank</td>\n",
       "      <td>Sporting Goods Shop</td>\n",
       "      <td>Shoe Store</td>\n",
       "      <td>0.000000</td>\n",
       "      <td>0.010000</td>\n",
       "      <td>0.010000</td>\n",
       "    </tr>\n",
       "    <tr>\n",
       "      <th>35</th>\n",
       "      <td>Turtle Bay</td>\n",
       "      <td>Bank</td>\n",
       "      <td>Sporting Goods Shop</td>\n",
       "      <td>Shoe Store</td>\n",
       "      <td>0.000000</td>\n",
       "      <td>0.000000</td>\n",
       "      <td>0.010000</td>\n",
       "    </tr>\n",
       "    <tr>\n",
       "      <th>36</th>\n",
       "      <td>Tudor City</td>\n",
       "      <td>Bank</td>\n",
       "      <td>Sporting Goods Shop</td>\n",
       "      <td>Shoe Store</td>\n",
       "      <td>0.000000</td>\n",
       "      <td>0.000000</td>\n",
       "      <td>0.013158</td>\n",
       "    </tr>\n",
       "  </tbody>\n",
       "</table>\n",
       "</div>"
      ],
      "text/plain": [
       "          Neighborhood 1st Most Common Venue 2nd Most Common Venue  \\\n",
       "2   Washington Heights                  Bank   Sporting Goods Shop   \n",
       "4     Hamilton Heights                  Bank   Sporting Goods Shop   \n",
       "5       Manhattanville                  Bank   Sporting Goods Shop   \n",
       "8      Upper East Side                  Bank            Shoe Store   \n",
       "9            Yorkville                  Bank   Sporting Goods Shop   \n",
       "27            Gramercy                  Bank   Sporting Goods Shop   \n",
       "30       Carnegie Hill                  Bank            Shoe Store   \n",
       "34        Sutton Place                  Bank   Sporting Goods Shop   \n",
       "35          Turtle Bay                  Bank   Sporting Goods Shop   \n",
       "36          Tudor City                  Bank   Sporting Goods Shop   \n",
       "\n",
       "   3rd Most Common Venue  Shoe Store  Sporting Goods Shop      Bank  \n",
       "2             Shoe Store    0.011494             0.011494  0.022989  \n",
       "4             Shoe Store    0.000000             0.000000  0.016949  \n",
       "5             Shoe Store    0.000000             0.000000  0.023810  \n",
       "8    Sporting Goods Shop    0.011236             0.000000  0.011236  \n",
       "9             Shoe Store    0.000000             0.000000  0.010000  \n",
       "27            Shoe Store    0.000000             0.000000  0.011364  \n",
       "30   Sporting Goods Shop    0.011494             0.000000  0.011494  \n",
       "34            Shoe Store    0.000000             0.010000  0.010000  \n",
       "35            Shoe Store    0.000000             0.000000  0.010000  \n",
       "36            Shoe Store    0.000000             0.000000  0.013158  "
      ]
     },
     "execution_count": 67,
     "metadata": {},
     "output_type": "execute_result"
    }
   ],
   "source": [
    "manhattan_merged.loc[manhattan_merged['Cluster Labels'] == 2, manhattan_merged.columns[[1] + list(range(5, manhattan_merged.shape[1]))]]"
   ]
  },
  {
   "cell_type": "markdown",
   "metadata": {},
   "source": [
    "#### Some plotting"
   ]
  },
  {
   "cell_type": "code",
   "execution_count": 68,
   "metadata": {},
   "outputs": [
    {
     "name": "stderr",
     "output_type": "stream",
     "text": [
      "/home/jupyterlab/conda/envs/python/lib/python3.6/site-packages/ipykernel_launcher.py:1: FutureWarning: Indexing with multiple keys (implicitly converted to a tuple of keys) will be deprecated, use a list instead.\n",
      "  \"\"\"Entry point for launching an IPython kernel.\n"
     ]
    },
    {
     "data": {
      "image/png": "[encoded data removed]",
      "text/plain": [
       "<Figure size 1080x432 with 1 Axes>"
      ]
     },
     "metadata": {
      "needs_background": "light"
     },
     "output_type": "display_data"
    }
   ],
   "source": [
    "graph = pd.DataFrame(manhattan_onehot.groupby('Neighborhood')['Shoe Store','Sporting Goods Shop','Bank'].sum())\n",
    "#graph = graph.sort_values(by='Shoe Store', ascending=False)\n",
    "graph.plot(kind='bar',figsize=(15,6))\n",
    "plt.xlabel('Neighborhood')\n",
    "plt.ylabel('Number of Stores')\n",
    "plt.show()"
   ]
  },
  {
   "cell_type": "markdown",
   "metadata": {},
   "source": [
    "In the above picture we see that \n",
    "* not all neighborhoods have a sneaker or shoe store or a bank\n",
    "* Midtown with a one shoe and two sporting shops has the most amount of shops\n",
    "* Washington Heights has the most number of banks"
   ]
  },
  {
   "cell_type": "code",
   "execution_count": null,
   "metadata": {},
   "outputs": [],
   "source": [
    "### Results"
   ]
  },
  {
   "cell_type": "code",
   "execution_count": null,
   "metadata": {},
   "outputs": [],
   "source": [
    "The results of the exploratory data analysis and clustering is summarized below :\n",
    "1. Midtown has the highest density of  sneaker shops\n",
    "2. Washington Heights has the most number of banks\n",
    "3. Cluster 0 neighborhoods have the least number of shoe shops\n",
    "4. Opening a restaurant would most likely be a good idea in a neighborhood with a lot of banks and many clients and not so many shoe shops, for example Upper East side"
   ]
  },
  {
   "cell_type": "markdown",
   "metadata": {},
   "source": [
    "### Discussion"
   ]
  },
  {
   "cell_type": "markdown",
   "metadata": {},
   "source": [
    "It is hard to tell where to open a sneaker shop. The data provides a first glimpse. But some more correlation analysis would be required to figure out the ideal location. \n",
    "\n",
    "Some drawbacks of analysis are: the clustering is completely based on the data provided by Foursquare API. Since land price, the distance of venues from the closest station, the number of potential customers, could all play a major role and thus, this analysis is definitely far from being conclusory. However, it definitely gives us some very important preliminary information on the possibilities of opening a high fashion and sneaker store in Manhattan."
   ]
  },
  {
   "cell_type": "markdown",
   "metadata": {},
   "source": [
    "### Conlcusion and Course Remarks"
   ]
  },
  {
   "cell_type": "markdown",
   "metadata": {},
   "source": [
    "To conclude this project, I liek to comment of the nature of such a real-life data science project. We applied some frequently used python libraries to handle JSON file, plotting graphs, and other exploratory data analysis. Using the Foursquare API to major boroughs of New York City and the neighborhoods in Manhattan. This is suitable for real-life business problems. Also, some of the drawbacks and chances for improvements to represent even more realistic pictures are mentioned. As a final note, all of the above analyses is depended on the adequacy and accuracy of Foursquare data. A more comprehensive analysis and future work would need to incorporate data from other external databases."
   ]
  }
 ],
 "metadata": {
  "kernelspec": {
   "display_name": "Python",
   "language": "python",
   "name": "conda-env-python-py"
  },
  "language_info": {
   "codemirror_mode": {
    "name": "ipython",
    "version": 3
   },
   "file_extension": ".py",
   "mimetype": "text/x-python",
   "name": "python",
   "nbconvert_exporter": "python",
   "pygments_lexer": "ipython3",
   "version": "3.6.10"
  }
 },
 "nbformat": 4,
 "nbformat_minor": 4
}
