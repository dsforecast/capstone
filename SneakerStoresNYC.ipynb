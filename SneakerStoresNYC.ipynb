{
 "cells": [
  {
   "cell_type": "markdown",
   "metadata": {},
   "source": [
    "# Sneaker Stores in NYC"
   ]
  },
  {
   "cell_type": "markdown",
   "metadata": {},
   "source": [
    "### Introduction/Business Problem"
   ]
  },
  {
   "cell_type": "markdown",
   "metadata": {},
   "source": [
    "This final project explores the best locations for new sneaker and lifestyle stores throughout the streets of New York City. New York is a major metropolitan area with more than 8.4 million (Quick Facts, 2018) inhabitants. Its the largest city in the US with a long history of international immigration and style innovation for the whole world. As Jay-Z and Alicia Keys once put it, if you can make it here, you can make it everywhere. In 2017, the total global sneakers market was valued at approximately 62.5 billion U.S. dollars and was forecast to reach a value of 97.8 billion U.S. dollars by 2024. (https://www.statista.com/statistics/1017918/sneakers-market-value-forecast-worldwide/)\n",
    "\n",
    "Since the competion is very high, the project aims to answer the question where are good locations to open a new sneaker store and what kind of target audience and clients can be expected. We also will try to answer the question if the store should be a classical retail store or a resell aka commission based to store.\n"
   ]
  },
  {
   "cell_type": "markdown",
   "metadata": {},
   "source": [
    "### Data section"
   ]
  },
  {
   "cell_type": "markdown",
   "metadata": {},
   "source": [
    "For this project we use the New Zork citz data used in the previous weeks. This contains the following:\n",
    "1. New York City data that contains Borough, Neighborhoods along with there latitudes and longitudes\n",
    "    - Data Source: https://cocl.us/new_york_dataset\n",
    "    - Description: This data set contains the required information. And we will use this data set to explore various neighborhoods of new york city.\n",
    "\n",
    "\n",
    "2. Sneaker and fashion retails store in Manhatten and Brooklyn (NYC).\n",
    "    - Data Source: Foursquare API\n",
    "    - Description: By using this API we will get all the venues in Queens neighborhood. We can filter these venues to get only Indian restaurants."
   ]
  }
 ],
 "metadata": {
  "kernelspec": {
   "display_name": "Python 3",
   "language": "python",
   "name": "python3"
  },
  "language_info": {
   "codemirror_mode": {
    "name": "ipython",
    "version": 3
   },
   "file_extension": ".py",
   "mimetype": "text/x-python",
   "name": "python",
   "nbconvert_exporter": "python",
   "pygments_lexer": "ipython3",
   "version": "3.7.3"
  }
 },
 "nbformat": 4,
 "nbformat_minor": 2
}
